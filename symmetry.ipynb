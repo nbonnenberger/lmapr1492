{
 "cells": [
  {
   "cell_type": "code",
   "execution_count": 52,
   "id": "ef46ae38",
   "metadata": {},
   "outputs": [
    {
     "name": "stdout",
     "output_type": "stream",
     "text": [
      "Full Formula (Cs4 K8 Sb4)\n",
      "Reduced Formula: CsK2Sb\n",
      "abc   :   8.758720   8.758720   8.758720\n",
      "angles:  90.000000  90.000000  90.000000\n",
      "Sites (16)\n",
      "  #  SP       a     b     c\n",
      "---  ----  ----  ----  ----\n",
      "  0  Cs    0.5   0     0\n",
      "  1  Cs    0.5   0.5   0.5\n",
      "  2  Cs    0     0     0.5\n",
      "  3  Cs    0     0.5   0\n",
      "  4  K     0.25  0.75  0.75\n",
      "  5  K     0.25  0.25  0.75\n",
      "  6  K     0.25  0.25  0.25\n",
      "  7  K     0.25  0.75  0.25\n",
      "  8  K     0.75  0.75  0.25\n",
      "  9  K     0.75  0.25  0.25\n",
      " 10  K     0.75  0.25  0.75\n",
      " 11  K     0.75  0.75  0.75\n",
      " 12  Sb    0     0     0\n",
      " 13  Sb    0     0.5   0.5\n",
      " 14  Sb    0.5   0     0.5\n",
      " 15  Sb    0.5   0.5   0\n",
      "Positions initiales des atomes choisis : \n",
      "Cs :  [0, 0, 0.5]\n",
      "K :  [0.75, 0.75, 0.25]\n",
      "Sb :  [0, 0.5, 0.5]\n",
      "Positions finales des atomes choisis : \n",
      "Cs (plan de glissement selon b par rapport au plan c = 3/4) :  [0.  0.5 1. ]\n",
      "K (inversion d'ordre 2 autour du point (1/2; 1/2; 1/2)) :  [0.25 0.25 0.75]\n",
      "Sb (rotation de 90° autour de l'axe a = b = 1/2) :  [0.5 1.  0.5]\n"
     ]
    },
    {
     "data": {
      "application/vnd.jupyter.widget-view+json": {
       "model_id": "3e592885aa2347aebe183b88a712cd8d",
       "version_major": 2,
       "version_minor": 0
      },
      "text/plain": [
       "JsmolView(layout=Layout(align_self='stretch', height='400px'))"
      ]
     },
     "metadata": {},
     "output_type": "display_data"
    }
   ],
   "source": [
    "from pymatgen.ext.matproj import MPRester\n",
    "from pymatgen import Structure\n",
    "from jupyter_jsmol.pymatgen import quick_view\n",
    "from pymatgen.symmetry.analyzer import SpacegroupAnalyzer\n",
    "from pymatgen.core.operations import SymmOp\n",
    "\n",
    "with MPRester(\"6FCK47cyF2mQPZ9CdW\") as m:\n",
    "    struct = m.get_structure_by_material_id(\"mp-581024\")\n",
    "    \n",
    "sga = SpacegroupAnalyzer(struct)\n",
    "\n",
    "conv = sga.get_conventional_standard_structure()\n",
    "print(conv)\n",
    "\n",
    "pos_at1 = [0, 0, 0.5]\n",
    "pos_at2 = [0.75, 0.75, 0.25]\n",
    "pos_at3 = [0, 0.5, 0.5]\n",
    "\n",
    "op1 = SymmOp.from_xyz_string('x, y + 1/2, 3/2 - z')\n",
    "op2 = SymmOp.from_xyz_string('1 - x, 1 - y, 1 - z')\n",
    "op3 = SymmOp.from_xyz_string('1 - y, 1 + x, 1 - z')\n",
    "\n",
    "pos_at1s = op1.operate(pos_at1)\n",
    "pos_at2s = op2.operate(pos_at2)\n",
    "pos_at3s = op3.operate(pos_at3)\n",
    "\n",
    "print(\"Positions initiales des atomes choisis : \")\n",
    "print(\"Cs : \", pos_at1)\n",
    "print(\"K : \", pos_at2)\n",
    "print(\"Sb : \", pos_at3)\n",
    "\n",
    "print(\"Positions finales des atomes choisis : \")\n",
    "print(\"Cs (plan de glissement selon b par rapport au plan c = 3/4) : \", pos_at1s)\n",
    "print(\"K (inversion d'ordre 2 autour du point (1/2; 1/2; 1/2)) : \", pos_at2s)\n",
    "print(\"Sb (rotation de 90° autour de l'axe a = b = 1/2) : \", pos_at3s)\n",
    "\n",
    "view = quick_view(struct)\n",
    "display(view)\n",
    "view.script('draw SYMOP \"x, y + 1/2, 3/2 - z\" {atomno = 3}')\n",
    "view.script('draw SYMOP \"1 - x, 1 - y, 1 - z\" {atomno = 9}') \n",
    "view.script('draw SYMOP \"1 - y, 1 + x, 1 - z\" {atomno = 14}') "
   ]
  },
  {
   "cell_type": "code",
   "execution_count": null,
   "id": "1d0deb96",
   "metadata": {},
   "outputs": [],
   "source": []
  }
 ],
 "metadata": {
  "kernelspec": {
   "display_name": "Python 3",
   "language": "python",
   "name": "python3"
  },
  "language_info": {
   "codemirror_mode": {
    "name": "ipython",
    "version": 3
   },
   "file_extension": ".py",
   "mimetype": "text/x-python",
   "name": "python",
   "nbconvert_exporter": "python",
   "pygments_lexer": "ipython3",
   "version": "3.6.8"
  }
 },
 "nbformat": 4,
 "nbformat_minor": 5
}
