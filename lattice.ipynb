{
 "cells": [
  {
   "cell_type": "code",
   "execution_count": 47,
   "id": "7d205472",
   "metadata": {},
   "outputs": [
    {
     "name": "stdout",
     "output_type": "stream",
     "text": [
      "Vecteurs du réseau direct : \n",
      " 0.000000 4.379360 4.379360\n",
      "4.379360 0.000000 4.379360\n",
      "4.379360 4.379360 0.000000\n",
      "Vecteurs du réseau réciproque : \n",
      "-0.717363416935304 0.717363416935304 0.717363416935304\n",
      "0.717363416935304 -0.717363416935304 0.717363416935304\n",
      "0.717363416935304 0.717363416935304 -0.717363416935304\n",
      "Groupe ponctuel : \n",
      " m-3m\n",
      "Système cristallin : \n",
      " cubic\n",
      "Type de maille : \n",
      "Faces centrées\n"
     ]
    }
   ],
   "source": [
    "from pymatgen.ext.matproj import MPRester\n",
    "from pymatgen.io.cif import CifParser\n",
    "from pymatgen.symmetry.groups import PointGroup\n",
    "import math\n",
    "\n",
    "parser = CifParser('CsK2Sb.cif')\n",
    "mpr = MPRester(\"6FCK47cyF2mQPZ9CdW\")\n",
    "\n",
    "struct = mpr.get_structures(\"mp-581024\")\n",
    "print(\"Vecteurs du réseau direct : \\n\", struct[0].lattice)\n",
    "\n",
    "print(\"Vecteurs du réseau réciproque : \")\n",
    "print(f\"{-math.pi/4.379360} {math.pi/4.379360} {math.pi/4.379360}\")\n",
    "print(f\"{math.pi/4.379360} {-math.pi/4.379360} {math.pi/4.379360}\")\n",
    "print(f\"{math.pi/4.379360} {math.pi/4.379360} {-math.pi/4.379360}\")\n",
    "\n",
    "data = mpr.get_data(\"mp-581024\")\n",
    "#print(data)\n",
    "print(\"Groupe ponctuel : \\n\", data[0]['spacegroup']['point_group'])\n",
    "print(\"Système cristallin : \\n\", data[0]['spacegroup']['crystal_system'])\n",
    "cell = data[0]['spacegroup']['symbol']\n",
    "\n",
    "print(\"Type de maille : \")\n",
    "if cell[0] == 'F' :\n",
    "    print(\"Faces centrées\")\n",
    "elif cell[0] == 'C' :\n",
    "    print(\"Bases centrées\")\n",
    "elif cell[0] == 'I' :\n",
    "    print(\"Centré\")\n",
    "elif cell[0] == 'P' :\n",
    "    print(\"Primitif\")\n"
   ]
  },
  {
   "cell_type": "code",
   "execution_count": null,
   "id": "e81decec",
   "metadata": {},
   "outputs": [],
   "source": []
  },
  {
   "cell_type": "code",
   "execution_count": null,
   "id": "42c40240",
   "metadata": {},
   "outputs": [],
   "source": []
  }
 ],
 "metadata": {
  "kernelspec": {
   "display_name": "Python 3",
   "language": "python",
   "name": "python3"
  },
  "language_info": {
   "codemirror_mode": {
    "name": "ipython",
    "version": 3
   },
   "file_extension": ".py",
   "mimetype": "text/x-python",
   "name": "python",
   "nbconvert_exporter": "python",
   "pygments_lexer": "ipython3",
   "version": "3.6.8"
  }
 },
 "nbformat": 4,
 "nbformat_minor": 5
}
