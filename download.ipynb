{
 "cells": [
  {
   "cell_type": "code",
   "execution_count": 1,
   "id": "128e541b",
   "metadata": {},
   "outputs": [],
   "source": [
    "from pymatgen.ext.matproj import MPRester\n",
    "from pymatgen.io.cif import CifParser\n",
    "\n",
    "parser = CifParser('CsK2Sb.cif')\n",
    "mpr = MPRester(\"6FCK47cyF2mQPZ9CdW\")"
   ]
  },
  {
   "cell_type": "code",
   "execution_count": null,
   "id": "b3909ee8",
   "metadata": {},
   "outputs": [],
   "source": []
  }
 ],
 "metadata": {
  "kernelspec": {
   "display_name": "Python 3",
   "language": "python",
   "name": "python3"
  },
  "language_info": {
   "codemirror_mode": {
    "name": "ipython",
    "version": 3
   },
   "file_extension": ".py",
   "mimetype": "text/x-python",
   "name": "python",
   "nbconvert_exporter": "python",
   "pygments_lexer": "ipython3",
   "version": "3.6.8"
  }
 },
 "nbformat": 4,
 "nbformat_minor": 5
}
